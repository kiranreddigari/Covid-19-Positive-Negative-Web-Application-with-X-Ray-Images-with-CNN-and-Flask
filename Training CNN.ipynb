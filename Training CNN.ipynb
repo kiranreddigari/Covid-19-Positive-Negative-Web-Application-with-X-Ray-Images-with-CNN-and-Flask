{
 "cells": [
  {
   "cell_type": "code",
   "execution_count": 2,
   "metadata": {
    "colab": {
     "base_uri": "https://localhost:8080/"
    },
    "id": "Iq9-APmdyrZk",
    "outputId": "1ccbcd50-70be-42ee-a6f0-60815562c8a8"
   },
   "outputs": [
    {
     "name": "stdout",
     "output_type": "stream",
     "text": [
      "Mounted at /content/drive\n"
     ]
    }
   ],
   "source": [
    "from google.colab import drive\n",
    "drive.mount('/content/drive')"
   ]
  },
  {
   "cell_type": "code",
   "execution_count": 4,
   "metadata": {
    "id": "sQqfT0Z64Ker"
   },
   "outputs": [],
   "source": [
    "import numpy as np\n",
    "\n",
    "data=np.load('/content/drive/MyDrive/data.npy')\n",
    "target=np.load('/content/drive/MyDrive/target.npy')"
   ]
  },
  {
   "cell_type": "code",
   "execution_count": 17,
   "metadata": {
    "colab": {
     "base_uri": "https://localhost:8080/"
    },
    "id": "PkeSaqqL30Od",
    "outputId": "4330c751-7809-4976-ecc0-4d8adeadae0b"
   },
   "outputs": [
    {
     "name": "stdout",
     "output_type": "stream",
     "text": [
      "Model: \"sequential_2\"\n",
      "_________________________________________________________________\n",
      "Layer (type)                 Output Shape              Param #   \n",
      "=================================================================\n",
      "functional_5 (Functional)    (None, 100, 100, 384)     11008     \n",
      "_________________________________________________________________\n",
      "conv2d_31 (Conv2D)           (None, 98, 98, 64)        221248    \n",
      "_________________________________________________________________\n",
      "activation_4 (Activation)    (None, 98, 98, 64)        0         \n",
      "_________________________________________________________________\n",
      "max_pooling2d_4 (MaxPooling2 (None, 49, 49, 64)        0         \n",
      "_________________________________________________________________\n",
      "conv2d_32 (Conv2D)           (None, 47, 47, 32)        18464     \n",
      "_________________________________________________________________\n",
      "activation_5 (Activation)    (None, 47, 47, 32)        0         \n",
      "_________________________________________________________________\n",
      "max_pooling2d_5 (MaxPooling2 (None, 23, 23, 32)        0         \n",
      "_________________________________________________________________\n",
      "flatten_2 (Flatten)          (None, 16928)             0         \n",
      "_________________________________________________________________\n",
      "dropout_6 (Dropout)          (None, 16928)             0         \n",
      "_________________________________________________________________\n",
      "dense_6 (Dense)              (None, 128)               2166912   \n",
      "_________________________________________________________________\n",
      "dropout_7 (Dropout)          (None, 128)               0         \n",
      "_________________________________________________________________\n",
      "dense_7 (Dense)              (None, 64)                8256      \n",
      "_________________________________________________________________\n",
      "dropout_8 (Dropout)          (None, 64)                0         \n",
      "_________________________________________________________________\n",
      "dense_8 (Dense)              (None, 2)                 130       \n",
      "=================================================================\n",
      "Total params: 2,426,018\n",
      "Trainable params: 2,426,018\n",
      "Non-trainable params: 0\n",
      "_________________________________________________________________\n"
     ]
    }
   ],
   "source": [
    "from keras.models import Sequential,Model\n",
    "from keras.layers import Dense, Dropout, Flatten\n",
    "from keras.layers import Conv2D,Activation,MaxPooling2D\n",
    "from keras.utils import normalize\n",
    "from keras.layers import Concatenate\n",
    "from keras import Input\n",
    "from keras.callbacks import ModelCheckpoint\n",
    "import tensorflow as tf\n",
    "\n",
    "input_shape=(100,100,1)\n",
    "inp=Input(shape=input_shape)\n",
    "convs=[]\n",
    "\n",
    "parrallel_kernels=[3,5,7]\n",
    "\n",
    "for k in range(len(parrallel_kernels)):\n",
    "\n",
    "    conv = Conv2D(128, parrallel_kernels[k],padding='same',activation='relu',input_shape=input_shape,strides=1)(inp)\n",
    "    convs.append(conv)\n",
    "\n",
    "out = Concatenate()(convs)\n",
    "conv_model = Model(inputs=inp, outputs=out)\n",
    "\n",
    "model = Sequential()\n",
    "model.add(conv_model)\n",
    "\n",
    "model.add(Conv2D(64,(3,3)))\n",
    "model.add(Activation('relu'))\n",
    "model.add(MaxPooling2D(pool_size=(2,2)))\n",
    "\n",
    "model.add(Conv2D(32,(3,3)))\n",
    "model.add(Activation('relu'))\n",
    "model.add(MaxPooling2D(pool_size=(2,2)))\n",
    "\n",
    "model.add(Flatten())\n",
    "model.add(Dropout(0.5))\n",
    "model.add(Dense(128,activation='relu'))\n",
    "model.add(Dropout(0.5))\n",
    "model.add(Dense(64,activation='relu'))\n",
    "model.add(Dropout(0.5))\n",
    "model.add(Dense(2,input_dim=128,activation='softmax'))\n",
    "model.compile(loss='categorical_crossentropy',optimizer='adam',metrics=['accuracy'])\n",
    "\n",
    "model.summary()"
   ]
  },
  {
   "cell_type": "code",
   "execution_count": 18,
   "metadata": {
    "id": "fg62fYQS4G9Z"
   },
   "outputs": [],
   "source": [
    "from sklearn.model_selection import train_test_split\n",
    "\n",
    "train_data,test_data,train_target,test_target=train_test_split(data,target,test_size=0.1)"
   ]
  },
  {
   "cell_type": "code",
   "execution_count": 19,
   "metadata": {
    "colab": {
     "base_uri": "https://localhost:8080/"
    },
    "id": "UGG9rmBR8cBP",
    "outputId": "e0b1be4d-a09c-4784-86fa-b9a4d04a0b72"
   },
   "outputs": [
    {
     "name": "stdout",
     "output_type": "stream",
     "text": [
      "Epoch 1/20\n",
      " 2/18 [==>...........................] - ETA: 0s - loss: 0.6461 - accuracy: 0.5469WARNING:tensorflow:Callbacks method `on_train_batch_end` is slow compared to the batch time (batch time: 0.0404s vs `on_train_batch_end` time: 0.0669s). Check your callbacks.\n",
      "18/18 [==============================] - 3s 156ms/step - loss: 0.6085 - accuracy: 0.7550 - val_loss: 0.5867 - val_accuracy: 0.7742\n",
      "Epoch 2/20\n",
      "18/18 [==============================] - 2s 106ms/step - loss: 0.5370 - accuracy: 0.7877 - val_loss: 0.5182 - val_accuracy: 0.7742\n",
      "Epoch 3/20\n",
      "18/18 [==============================] - 2s 106ms/step - loss: 0.5115 - accuracy: 0.7931 - val_loss: 0.4937 - val_accuracy: 0.7742\n",
      "Epoch 4/20\n",
      "18/18 [==============================] - 2s 106ms/step - loss: 0.4607 - accuracy: 0.7931 - val_loss: 0.4174 - val_accuracy: 0.8548\n",
      "Epoch 5/20\n",
      "18/18 [==============================] - 2s 106ms/step - loss: 0.3976 - accuracy: 0.8348 - val_loss: 0.3992 - val_accuracy: 0.8871\n",
      "Epoch 6/20\n",
      "18/18 [==============================] - 2s 105ms/step - loss: 0.4179 - accuracy: 0.8439 - val_loss: 0.4334 - val_accuracy: 0.7742\n",
      "Epoch 7/20\n",
      "18/18 [==============================] - 2s 106ms/step - loss: 0.3980 - accuracy: 0.8548 - val_loss: 0.3363 - val_accuracy: 0.8871\n",
      "Epoch 8/20\n",
      "18/18 [==============================] - 2s 104ms/step - loss: 0.3852 - accuracy: 0.8820 - val_loss: 0.3670 - val_accuracy: 0.8871\n",
      "Epoch 9/20\n",
      "18/18 [==============================] - 2s 106ms/step - loss: 0.3382 - accuracy: 0.8911 - val_loss: 0.3256 - val_accuracy: 0.9032\n",
      "Epoch 10/20\n",
      "18/18 [==============================] - 2s 105ms/step - loss: 0.3451 - accuracy: 0.8802 - val_loss: 0.3371 - val_accuracy: 0.8871\n",
      "Epoch 11/20\n",
      "18/18 [==============================] - 2s 106ms/step - loss: 0.3075 - accuracy: 0.9020 - val_loss: 0.3216 - val_accuracy: 0.8871\n",
      "Epoch 12/20\n",
      "18/18 [==============================] - 2s 108ms/step - loss: 0.3147 - accuracy: 0.8838 - val_loss: 0.2989 - val_accuracy: 0.9032\n",
      "Epoch 13/20\n",
      "18/18 [==============================] - 2s 105ms/step - loss: 0.3174 - accuracy: 0.8966 - val_loss: 0.3032 - val_accuracy: 0.8871\n",
      "Epoch 14/20\n",
      "18/18 [==============================] - 2s 107ms/step - loss: 0.3037 - accuracy: 0.9002 - val_loss: 0.2909 - val_accuracy: 0.8871\n",
      "Epoch 15/20\n",
      "18/18 [==============================] - 2s 106ms/step - loss: 0.2983 - accuracy: 0.8929 - val_loss: 0.2697 - val_accuracy: 0.9194\n",
      "Epoch 16/20\n",
      "18/18 [==============================] - 2s 106ms/step - loss: 0.3097 - accuracy: 0.9020 - val_loss: 0.2665 - val_accuracy: 0.9032\n",
      "Epoch 17/20\n",
      "18/18 [==============================] - 2s 105ms/step - loss: 0.3108 - accuracy: 0.9111 - val_loss: 0.2699 - val_accuracy: 0.8871\n",
      "Epoch 18/20\n",
      "18/18 [==============================] - 2s 105ms/step - loss: 0.2587 - accuracy: 0.9111 - val_loss: 0.3255 - val_accuracy: 0.8710\n",
      "Epoch 19/20\n",
      "18/18 [==============================] - 2s 105ms/step - loss: 0.2843 - accuracy: 0.8966 - val_loss: 0.3062 - val_accuracy: 0.8548\n",
      "Epoch 20/20\n",
      "18/18 [==============================] - 2s 105ms/step - loss: 0.2647 - accuracy: 0.9093 - val_loss: 0.3024 - val_accuracy: 0.8710\n"
     ]
    }
   ],
   "source": [
    "checkpoint = ModelCheckpoint('model-{epoch:03d}.h5',monitor='val_loss',verbose=0,save_best_only=True,mode='auto',save_weights_only=True)\n",
    "history=model.fit(train_data,train_target,epochs=20,callbacks=[checkpoint],validation_split=0.1)"
   ]
  },
  {
   "cell_type": "code",
   "execution_count": 20,
   "metadata": {
    "colab": {
     "base_uri": "https://localhost:8080/",
     "height": 279
    },
    "id": "Wb-7j5RK8lp9",
    "outputId": "5d284da2-80ee-4e07-ed70-aea972755bd0"
   },
   "outputs": [
    {
     "data": {
      "image/png": "[encoded data removed]",
      "text/plain": [
       "<Figure size 432x288 with 1 Axes>"
      ]
     },
     "metadata": {
      "needs_background": "light",
      "tags": []
     },
     "output_type": "display_data"
    }
   ],
   "source": [
    "from matplotlib import pyplot as plt\n",
    "\n",
    "plt.plot(history.history['loss'],'r',label='training loss')\n",
    "plt.plot(history.history['val_loss'],label='validation loss')\n",
    "plt.xlabel('# epochs')\n",
    "plt.ylabel('loss')\n",
    "plt.legend()\n",
    "plt.show()"
   ]
  },
  {
   "cell_type": "code",
   "execution_count": 21,
   "metadata": {
    "colab": {
     "base_uri": "https://localhost:8080/",
     "height": 280
    },
    "id": "spL4gYdu893m",
    "outputId": "addb78f9-a279-4a20-beef-709efdceb64c"
   },
   "outputs": [
    {
     "data": {
      "image/png": "[encoded data removed]",
      "text/plain": [
       "<Figure size 432x288 with 1 Axes>"
      ]
     },
     "metadata": {
      "needs_background": "light",
      "tags": []
     },
     "output_type": "display_data"
    }
   ],
   "source": [
    "plt.plot(history.history['accuracy'],'r',label='training accuracy')\n",
    "plt.plot(history.history['val_accuracy'],label='validation accuracy')\n",
    "plt.xlabel('# epochs')\n",
    "plt.ylabel('loss')\n",
    "plt.legend()\n",
    "plt.show()"
   ]
  },
  {
   "cell_type": "code",
   "execution_count": 22,
   "metadata": {
    "colab": {
     "base_uri": "https://localhost:8080/"
    },
    "id": "5v73I5_j9Cjm",
    "outputId": "1a484a2d-9085-4f30-d266-fd01c5f963ca"
   },
   "outputs": [
    {
     "name": "stdout",
     "output_type": "stream",
     "text": [
      "3/3 [==============================] - 0s 91ms/step - loss: 0.4283 - accuracy: 0.8696\n",
      "[0.42830535769462585, 0.8695651888847351]\n"
     ]
    }
   ],
   "source": [
    "print(model.evaluate(test_data,test_target))"
   ]
  },
  {
   "cell_type": "code",
   "execution_count": null,
   "metadata": {
    "id": "Y628eEAM9GcF"
   },
   "outputs": [],
   "source": []
  }
 ],
 "metadata": {
  "accelerator": "GPU",
  "colab": {
   "collapsed_sections": [],
   "name": "Untitled2.ipynb",
   "provenance": []
  },
  "kernelspec": {
   "display_name": "Python 3",
   "language": "python",
   "name": "python3"
  },
  "language_info": {
   "codemirror_mode": {
    "name": "ipython",
    "version": 3
   },
   "file_extension": ".py",
   "mimetype": "text/x-python",
   "name": "python",
   "nbconvert_exporter": "python",
   "pygments_lexer": "ipython3",
   "version": "3.7.9"
  }
 },
 "nbformat": 4,
 "nbformat_minor": 1
}
